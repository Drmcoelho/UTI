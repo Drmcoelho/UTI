{
 "cells": [
  {
   "cell_type": "markdown",
   "id": "58b5451b",
   "metadata": {},
   "source": [
    "# 🩺 Ecocardiografia à Beira do Leito (POCUS) na UTI\n",
    "\n",
    "A ecocardiografia point-of-care é uma extensão do exame físico do intensivista. Neste notebook vamos revisar protocolos rápidos, interpretações de parâmetros e construir pequenas ferramentas para apoiar a tomada de decisão em tempo real."
   ]
  },
  {
   "cell_type": "markdown",
   "id": "0669a2e8",
   "metadata": {},
   "source": [
    "## 🎯 Objetivos de Aprendizado\n",
    "- Revisar a sistemática de aquisição de janelas ecocardiográficas na UTI.\n",
    "- Reconhecer padrões à beira-leito associados a choque, congestão e ventilação mecânica.\n",
    "- Utilizar medidas simples (VTI, VCI, E/e') para inferir perfusão e responsividade a fluidos.\n",
    "- Integrar achados do POCUS com protocolos de ressuscitação e ventilação."
   ]
  },
  {
   "cell_type": "markdown",
   "id": "10054a19",
   "metadata": {},
   "source": [
    "## 🗺️ Roteiro de Avaliação Rápida\n",
    "```mermaid\n",
    "graph TD\n",
    "    A[Paciente instável] --> B{Via aérea segura?}\n",
    "    B -->|Não| B1[Corrigir via aérea]\n",
    "    B -->|Sim| C[Eco subxifoide]\n",
    "    C --> D{Tamponamento?}\n",
    "    D -->|Sim| D1[Pericardiocentese urgente]\n",
    "    D -->|Não| E[Eco paraesternal eixo longo]\n",
    "    E --> F{Disfunção ventricular grave?}\n",
    "    F -->|Sim| F1[Inotrópicos + suporte avançado]\n",
    "    F -->|Não| G[VCI + Doppler venoso]\n",
    "    G --> H{Colapso > 50%?}\n",
    "    H -->|Sim| H1[Reanimação volêmica]\n",
    "    H -->|Não| I[Reavaliar ventilação / vasopressores]\n",
    "```"
   ]
  },
  {
   "cell_type": "markdown",
   "id": "211cec95",
   "metadata": {},
   "source": [
    "## 🗒️ Checklist de Aquisição\n",
    "1. **Preparação**: ajuste ganho, profundidade e configurações do transdutor.\n",
    "2. **Eixo Paraesternal Longo**: avalie função ventricular global, derrame pericárdico e valvas AV.\n",
    "3. **Eixo Paraesternal Curto**: inspeção de fração de encurtamento e movimento regional.\n",
    "4. **Apical 4 câmaras**: estimativa de E/e' e avaliação de ventrículo direito.\n",
    "5. **Subxifoide**: visibiliza derrame pericárdico, trombos cavitários e avaliação de VCI.\n",
    "6. **Pulmonar**: sonda linear em hemitórax anterior para linhas A/B.\n",
    "\n",
    "> ✅ **Dica**: Registre loops de 3 a 4 ciclos para análise e comparação seriada."
   ]
  },
  {
   "cell_type": "code",
   "execution_count": null,
   "id": "022ec55f",
   "metadata": {},
   "outputs": [],
   "source": [
    "import pandas as pd\n",
    "\n",
    "protocolos = pd.DataFrame([\n",
    "    ('Paraesternal Longo', '1. Mitral e aórtica', 'Fracionamento do VE, derrame'),\n",
    "    ('Paraesternal Curto', '2. Eixo papilar', 'Movimento regional e FE qualitativa'),\n",
    "    ('Apical 4 Câmaras', '3. Septo lateral', \"E/e', função VD\"),\n",
    "    ('Subxifoide', '4. VE/VD + VCI', 'Tamponamento, colapso da VCI'),\n",
    "    ('Pulmonar Anterior', '5. Intercostais', 'Perfil A/B, pneumotórax'),\n",
    "], columns=['Janela', 'Sequência', 'Pergunta-chave'])\n",
    "\n",
    "protocolos"
   ]
  },
  {
   "cell_type": "markdown",
   "id": "c12d8f8e",
   "metadata": {},
   "source": [
    "### Como usar a tabela\n",
    "- **Janela**: ordem sugerida para o intensivista solitário.\n",
    "- **Sequência**: lembrete visual rápido para posicionamento do transdutor.\n",
    "- **Pergunta-chave**: foco clínico para diferenciar diagnósticos imediatos.\n",
    "\n",
    "Reaplicar a sequência a cada intervenção relevante (fluido, vasopressor, ajuste ventilatório)."
   ]
  },
  {
   "cell_type": "code",
   "execution_count": null,
   "id": "9d81fbb3",
   "metadata": {},
   "outputs": [],
   "source": [
    "import numpy as np\n",
    "import plotly.graph_objects as go\n",
    "from ipywidgets import interact, FloatSlider\n",
    "\n",
    "pi = np.pi\n",
    "\n",
    "\n",
    "def hemodynamics(vti_cm: float = 18.0, lvot_diam_mm: float = 20.0, heart_rate: float = 90.0):\n",
    "    'Calcula volume sistólico, débito cardíaco e sugere interpretação clínica.'\n",
    "    area = pi * (lvot_diam_mm / 10 / 2) ** 2  # área em cm²\n",
    "    stroke_volume = area * vti_cm  # volume sistólico (mL)\n",
    "    cardiac_output = stroke_volume * heart_rate / 1000  # L/min\n",
    "\n",
    "    if cardiac_output < 3.5:\n",
    "        status = '⚠️ Baixo débito: combine com avaliação clínica para considerar inotrópicos.'\n",
    "    elif cardiac_output > 6.5:\n",
    "        status = '🔺 Alto débito: investigar febre, anemia ou choque distributivo.'\n",
    "    else:\n",
    "        status = '✅ Débito dentro da faixa esperada (3.5–6.5 L/min).'\n",
    "\n",
    "    fig = go.Figure(go.Indicator(\n",
    "        mode='gauge+number',\n",
    "        value=cardiac_output,\n",
    "        number={'suffix': ' L/min'},\n",
    "        gauge={\n",
    "            'axis': {'range': [0, 10]},\n",
    "            'steps': [\n",
    "                {'range': [0, 3.5], 'color': '#f6d6d6'},\n",
    "                {'range': [3.5, 6.5], 'color': '#d6f6e1'},\n",
    "                {'range': [6.5, 10], 'color': '#ffe0b2'},\n",
    "            ],\n",
    "            'threshold': {'line': {'color': '#ef6c00', 'width': 4}, 'value': cardiac_output},\n",
    "        },\n",
    "        title={'text': 'Débito Cardíaco estimado'},\n",
    "    ))\n",
    "\n",
    "    fig.update_layout(height=300)\n",
    "    fig.show()\n",
    "\n",
    "    return {\n",
    "        'Área LVOT (cm²)': round(area, 2),\n",
    "        'Volume sistólico (mL)': round(stroke_volume, 1),\n",
    "        'Débito cardíaco (L/min)': round(cardiac_output, 2),\n",
    "        'Interpretação': status,\n",
    "    }\n",
    "\n",
    "\n",
    "interact(\n",
    "    hemodynamics,\n",
    "    vti_cm=FloatSlider(value=18, min=10, max=30, step=0.5, description='VTI (cm)'),\n",
    "    lvot_diam_mm=FloatSlider(value=20, min=14, max=26, step=0.5, description='LVOT (mm)'),\n",
    "    heart_rate=FloatSlider(value=90, min=40, max=150, step=5, description='FC (bpm)'),\n",
    ")"
   ]
  },
  {
   "cell_type": "markdown",
   "id": "86f2503f",
   "metadata": {},
   "source": [
    "## 📊 Avaliação da Congestão Venosa\n",
    "- **VCI < 1,5 cm com colapso > 50%**: indica hipovolemia provável e resposta a fluido.\n",
    "- **VCI > 2,1 cm sem colapso**: sugere pressão atrial direita elevada.\n",
    "- **Doppler hepático pulsátil ou reverso**: corrobora congestão sistêmica.\n",
    "- **Veia porta com fluxo alternante**: sensível a congestão significativa.\n",
    "\n",
    "Integre com avaliação de B-lines (pulmonares) e ponto de ebulição hepática."
   ]
  },
  {
   "cell_type": "code",
   "execution_count": null,
   "id": "34b46027",
   "metadata": {},
   "outputs": [],
   "source": [
    "from ipywidgets import interact_manual, FloatSlider\n",
    "\n",
    "\n",
    "def avaliar_congestao(vci_diam_mm: float, colapso_percentual: float, doppler_hepatico: str):\n",
    "    'Sugere categoria de congestionamento à beira do leito.'\n",
    "    if vci_diam_mm < 15 and colapso_percentual > 50:\n",
    "        categoria = 'Provável hipovolemia'\n",
    "        conduta = 'Considerar desafio volêmico guiado por hemodinâmica e perfusão.'\n",
    "    elif vci_diam_mm > 21 and colapso_percentual < 20:\n",
    "        if doppler_hepatico == 'Reverso/alternante':\n",
    "            categoria = 'Congestão grave'\n",
    "            conduta = 'Avaliar necessidade de diurético/ultrafiltração e reduzir pressão intratorácica.'\n",
    "        else:\n",
    "            categoria = 'Congestão moderada'\n",
    "            conduta = 'Otimizar balanço hídrico e reavaliar ventilação/PEEP.'\n",
    "    else:\n",
    "        categoria = 'Zona cinzenta'\n",
    "        conduta = 'Integrar com sinais clínicos, lactato e resposta a manobras dinâmicas.'\n",
    "\n",
    "    return {\n",
    "        'Categoria': categoria,\n",
    "        'Sugestão': conduta,\n",
    "    }\n",
    "\n",
    "\n",
    "interact_manual(\n",
    "    avaliar_congestao,\n",
    "    vci_diam_mm=FloatSlider(value=18, min=8, max=30, step=1, description='VCI (mm)'),\n",
    "    colapso_percentual=FloatSlider(value=40, min=0, max=100, step=5, description='Colapso (%)'),\n",
    "    doppler_hepatico=['Normal', 'Reverso/alternante'],\n",
    ")"
   ]
  },
  {
   "cell_type": "markdown",
   "id": "8992b998",
   "metadata": {},
   "source": [
    "## 🧠 Caso Integrado Rápido\n",
    "**Cenário:** Paciente com choque séptico em noradrenalina 0,3 μg/kg/min, débito urinário baixo e ventilação protetora.\n",
    "\n",
    "1. Realize ecocardiografia e encontre VTI 14 cm, diâmetro do LVOT 19 mm e colapso da VCI < 10%.\n",
    "2. Doppler hepático com reversão sistólica.\n",
    "3. Presença de B-lines difusas.\n",
    "\n",
    "**Discussão guiada:**\n",
    "- Débito cardíaco estimado ≈ 3,0 L/min → considerar inotrópico.\n",
    "- Congestão sistêmica relevante → evitar expansão volêmica, ajustar PEEP.\n",
    "- Monitorar SvO₂ ou ScvO₂, lactato e repetir POCUS após intervenção."
   ]
  },
  {
   "cell_type": "markdown",
   "id": "ca1f17c8",
   "metadata": {},
   "source": [
    "## 📚 Referências\n",
    "- Via, G. et al. *International evidence-based recommendations for focused cardiac ultrasound*. Intensive Care Med, 2014.\n",
    "- Atkinson, P. et al. *Focused ultrasound in the ICU*. Crit Care Clin, 2014.\n",
    "- ASE. *Focused Cardiac Ultrasound Position Statement*, 2020.\n",
    "- Guidelines de choque séptico – Surviving Sepsis Campaign 2021."
   ]
  }
 ],
 "metadata": {},
 "nbformat": 4,
 "nbformat_minor": 5
}