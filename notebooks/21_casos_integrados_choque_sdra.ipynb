{
 "cells": [
  {
   "cell_type": "markdown",
   "id": "ad605347",
   "metadata": {},
   "source": [
    "# Casos Integrados — Monitorização, Ventilação e Choque\n",
    "\n",
    "Este notebook guia o estudo pelos principais cenários críticos dos módulos 01 a 03. Em cada bloco você encontrará:\n",
    "\n",
    "1. Um resumo do cenário clínico\n",
    "2. Perguntas-chave para orientar o raciocínio\n",
    "3. **Checkpoints** com pequenas tarefas que confirmam se o raciocínio está alinhado aos objetivos do módulo.\n",
    "\n",
    "> ⚠️ **Como usar:** leia o cenário, responda às perguntas no seu caderno e somente depois execute os checkpoints. Caso um `assert` falhe, reveja o conteúdo indicado.\n"
   ]
  },
  {
   "cell_type": "markdown",
   "id": "581bde83",
   "metadata": {},
   "source": [
    "## 🔍 Checkpoint 1 — Monitorização Hemodinâmica (Módulo 01)\n",
    "\n",
    "**Cenário:** Paciente 68 anos em choque vasoplégico pós-operatório com cateter arterial radial recém-inserido. Leitura inicial: PAS 95 mmHg, PAD 60 mmHg, curva com discreto amortecimento.\n",
    "\n",
    "**Perguntas-chave:**\n",
    "- Qual a PAM calculada a partir dos valores medidos?\n",
    "- A curva precisa ser ajustada antes de tomar decisões terapêuticas?\n",
    "- Quais metas de PAM você estabeleceria nas próximas horas?\n",
    "\n",
    "> ✅ Execute a célula abaixo somente após responder às perguntas. Atualize os valores solicitados para confirmar seu raciocínio.\n"
   ]
  },
  {
   "cell_type": "code",
   "execution_count": null,
   "id": "fd93249b",
   "metadata": {},
   "outputs": [],
   "source": [
    "# Preencha a variável `pam_calculada` com o valor da PAM estimada para o caso.\n",
    "# Fórmula de referência: PAM = PAD + (PAS - PAD) / 3\n",
    "pam_calculada = None  # substitua por um número inteiro\n",
    "\n",
    "assert pam_calculada == 72, \"Reveja o cálculo: utilize a fórmula da pressão arterial média.\"\n",
    "print(f\"PAM confirmada: {pam_calculada} mmHg — prossiga para discutir metas terapêuticas.\")\n"
   ]
  },
  {
   "cell_type": "markdown",
   "id": "ae2e52f2",
   "metadata": {},
   "source": [
    "### 📌 Reflexão guiada\n",
    "- Com a PAM validada, revise as indicações de monitorização invasiva no [caso clínico 02](../casos-clinicos/caso_02_monitorizacao_invasiva.md).\n",
    "- Verifique se a meta de PAM ≥ 65 mmHg é suficiente para o perfil do paciente ou se precisa ser individualizada.\n"
   ]
  },
  {
   "cell_type": "markdown",
   "id": "8053469d",
   "metadata": {},
   "source": [
    "## 🫁 Checkpoint 2 — SDRA e Ventilação Protetora (Módulo 02)\n",
    "\n",
    "**Cenário:** Mulher, 160 cm, SDRA moderada em ventilação controlada. Objetivo: ajustar volume corrente para 6 mL/kg de peso predito.\n",
    "\n",
    "**Perguntas-chave:**\n",
    "- Qual o peso predito para essa paciente?\n",
    "- Qual volume corrente alvo deve ser programado?\n",
    "- Qual pressão de platô deve ser monitorada após o ajuste?\n",
    "\n",
    "> ✅ Calcule o volume corrente e valide com o teste automático abaixo.\n"
   ]
  },
  {
   "cell_type": "code",
   "execution_count": null,
   "id": "30043aea",
   "metadata": {},
   "outputs": [],
   "source": [
    "# Utilize as fórmulas do protocolo ARDSNet:\n",
    "# PBW mulher = 45.5 + 0.91 * (altura_cm - 152.4)\n",
    "altura_cm = 160\n",
    "peso_predito = None  # preencha com o peso corporal predito (em kg)\n",
    "vc_programado = None  # preencha com o volume corrente alvo (em mL)\n",
    "\n",
    "assert round(peso_predito, 1) == 52.3, \"Recalcule o peso predito utilizando a fórmula do protocolo.\"\n",
    "assert vc_programado == 314, \"O volume corrente deve ser arredondado para o valor inteiro mais próximo.\"\n",
    "print(f\"Peso predito: {peso_predito:.1f} kg | Volume corrente alvo: {vc_programado} mL\")\n"
   ]
  },
  {
   "cell_type": "markdown",
   "id": "53b97df8",
   "metadata": {},
   "source": [
    "### 📌 Reflexão guiada\n",
    "- Revise a tabela de ajuste de PEEP/FiO2 no notebook [`20_sdra.ipynb`](20_sdra.ipynb).\n",
    "- Compare sua resposta com o [caso clínico 03](../casos-clinicos/caso_03_sdra_refrataria.md) e discuta quando considerar pronação.\n"
   ]
  },
  {
   "cell_type": "markdown",
   "id": "74f9d89d",
   "metadata": {},
   "source": [
    "## 💉 Checkpoint 3 — Choque Séptico (Módulo 03)\n",
    "\n",
    "**Cenário:** Paciente com choque séptico mantém PAM 62 mmHg apesar de noradrenalina 0,38 mcg/kg/min após reposição adequada. Lactato 4,9 mmol/L.\n",
    "\n",
    "**Perguntas-chave:**\n",
    "- Quais passos adicionais compõem o pacote das 6 horas?\n",
    "- Quando indicar vasopressina como droga adjuvante?\n",
    "- Em que momento considerar hidrocortisona?\n",
    "\n",
    "> ✅ Preencha a lista com as intervenções prioritárias. O teste verifica se os itens-chave estão contemplados.\n"
   ]
  },
  {
   "cell_type": "code",
   "execution_count": null,
   "id": "e3ddba40",
   "metadata": {},
   "outputs": [],
   "source": [
    "intervencoes_prioritarias = [\n",
    "    # Substitua as strings abaixo pelas condutas recomendadas.\n",
    "]\n",
    "\n",
    "itens_obrigatorios = {\n",
    "    \"adicionar vasopressina\",\n",
    "    \"considerar hidrocortisona\",\n",
    "    \"reavaliar volume e perfusão\",\n",
    "    \"monitorar clearance de lactato\",\n",
    "}\n",
    "\n",
    "assert set(map(str.lower, intervencoes_prioritarias)) >= itens_obrigatorios, (\n",
    "    \"Liste todas as medidas essenciais: vasopressina, hidrocortisona, reavaliação volêmica e acompanhamento do lactato.\"\n",
    ")\n",
    "print(\"Checklist completo! Revise o caso clínico 01 para detalhar doses e tempo de intervenção.\")\n"
   ]
  },
  {
   "cell_type": "markdown",
   "id": "4cfa9cf8",
   "metadata": {},
   "source": [
    "### 📌 Reflexão guiada\n",
    "- Confronte suas respostas com o [caso clínico 01](../casos-clinicos/caso_01_choque_septico.md).\n",
    "- Atualize seu plano terapêutico com base nos critérios de resposta (PAM, lactato, diurese).\n",
    "\n",
    "---\n",
    "\n",
    "✅ **Próximos passos:**\n",
    "1. Registrar dúvidas encontradas durante os checkpoints.\n",
    "2. Repetir os exercícios correspondentes em [`exercicios/exercicios_blocos_1-3.md`](../exercicios/exercicios_blocos_1-3.md).\n",
    "3. Revisar os flashcards de cada módulo para reforçar pontos críticos.\n"
   ]
  }
 ],
 "metadata": {},
 "nbformat": 4,
 "nbformat_minor": 5
}
