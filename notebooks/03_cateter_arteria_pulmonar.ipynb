{
 "cells": [
  {
   "cell_type": "markdown",
   "id": "caadf230",
   "metadata": {},
   "source": [
    "# Notebook 03 - Cateter de Artéria Pulmonar (Swan-Ganz)\n",
    "\n",
    "Interprete curvas de pressão e cálculos avançados para conduzir o paciente crítico com precisão."
   ]
  },
  {
   "cell_type": "markdown",
   "id": "149ac724",
   "metadata": {},
   "source": [
    "## 🎯 Objetivos de Aprendizagem\n",
    "- Listar indicações e contraindicações do cateter de artéria pulmonar\n",
    "- Interpretar curvas de pressão nas diferentes câmaras cardíacas\n",
    "- Calcular parâmetros derivados (RVS, SvO₂) e orientar terapêutica\n",
    "- Conduzir cenários clínicos complexos com suporte do CAP"
   ]
  },
  {
   "cell_type": "markdown",
   "id": "0266690d",
   "metadata": {},
   "source": [
    "## 🧭 Mapa do Notebook\n",
    "- Revisão anatômica e técnica de inserção\n",
    "- Interpretação das curvas de pressão\n",
    "- Cálculos essenciais para débito cardíaco e resistências\n",
    "- Casos práticos focados em choque refratário\n",
    "- Checklist final de segurança"
   ]
  },
  {
   "cell_type": "markdown",
   "id": "277414d4",
   "metadata": {},
   "source": [
    "## 🧠 Fundamentos\n",
    "O cateter de artéria pulmonar (CAP) possibilita avaliação direta das pressões intracardíacas, débito cardíaco (DC) e saturação venosa mista (SvO₂). É indicado em choque refratário, avaliação de hipertensão pulmonar e em algumas cirurgias cardíacas complexas."
   ]
  },
  {
   "cell_type": "markdown",
   "id": "343dd1fc",
   "metadata": {},
   "source": [
    "### Curvas Características\n",
    "| Fase | Pressão (mmHg) | Característica | Achado patológico |\n",
    "| --- | --- | --- | --- |\n",
    "| Átrio direito | 2-8 | Ondas a, c, v | a alta: estenose tricúspide |\n",
    "| Ventrículo direito | 15-30 / 0-8 | Ascenso íngreme | PAD alta: hipertensão pulmonar |\n",
    "| Artéria pulmonar | 15-30 / 8-15 | Incisura dicrótica | Pressão média >25 em repouso |\n",
    "| Wedge (POAP) | 6-12 | Onda a > v | POAP >18: congestão esquerda |"
   ]
  },
  {
   "cell_type": "markdown",
   "id": "1eff25ec",
   "metadata": {},
   "source": [
    "### Fluxo de Implantação Segura\n",
    "```mermaid\n",
    "sequenceDiagram\n",
    "    participant MD as Intensivista\n",
    "    participant ENF as Enfermagem\n",
    "    participant PAC as Paciente\n",
    "    MD->>ENF: Conferir prescrição e consentimento\n",
    "    ENF->>PAC: Posicionar paciente em Trendelenburg leve\n",
    "    MD->>PAC: Inserir introdutor venoso (IJV/SCV)\n",
    "    MD->>PAC: Avançar CAP monitorando curvas\n",
    "    MD->>ENF: Confirmar posição com radiografia e POAP\n",
    "    ENF->>MD: Iniciar registro contínuo das pressões\n",
    "```"
   ]
  },
  {
   "cell_type": "markdown",
   "id": "0d0668c6",
   "metadata": {},
   "source": [
    "## 📈 Interpretação Hemodinâmica\n",
    "Use os valores obtidos para diferenciar etiologias de choque e ajustar terapias (fluido, vasopressor, inotrópico)."
   ]
  },
  {
   "cell_type": "code",
   "execution_count": null,
   "id": "119a0377",
   "metadata": {},
   "outputs": [],
   "source": [
    "def calcular_resistencia(pam, pmcap, debito_cardiaco):\n",
    "    \"\"\"Calcula resistência vascular sistêmica (RVS) em dyn·s·cm⁻⁵.\n",
    "    pam: pressão arterial média sistêmica\n",
    "    pmcap: pressão média do capilar pulmonar (POAP)\n",
    "    debito_cardiaco: em L/min\n",
    "    \"\"\"\n",
    "    return ((pam - pmcap) * 80) / debito_cardiaco\n",
    "\n",
    "caso = {'pam': 70, 'poap': 18, 'dc': 3.4}\n",
    "rvs = calcular_resistencia(caso['pam'], caso['poap'], caso['dc'])\n",
    "print(f\"RVS estimada: {rvs:.0f} dyn·s·cm⁻⁵\")\n",
    "if rvs < 800:\n",
    "    print('Quadro compatível com choque distributivo.')\n",
    "elif rvs > 1200:\n",
    "    print('Sugere choque vasoconstrictivo/hipovolêmico.')\n",
    "else:\n",
    "    print('RVS dentro da meta; reavaliar causa do baixo DC.')"
   ]
  },
  {
   "cell_type": "code",
   "execution_count": null,
   "id": "f8755358",
   "metadata": {},
   "outputs": [],
   "source": [
    "import numpy as np\n",
    "import matplotlib.pyplot as plt\n",
    "\n",
    "tempo = np.arange(0, 6)\n",
    "dc_termico = np.array([3.1, 3.3, 3.4, 3.2, 3.5, 3.6])\n",
    "sv02 = np.array([58, 60, 63, 62, 65, 66])\n",
    "\n",
    "fig, ax1 = plt.subplots(figsize=(9, 4))\n",
    "color = 'tab:blue'\n",
    "ax1.set_xlabel('Tempo (h)')\n",
    "ax1.set_ylabel('Débito Cardíaco (L/min)', color=color)\n",
    "ax1.plot(tempo, dc_termico, marker='o', color=color)\n",
    "ax1.tick_params(axis='y', labelcolor=color)\n",
    "ax1.axhline(4.0, linestyle='--', color=color, alpha=0.4)\n",
    "\n",
    "ax2 = ax1.twinx()\n",
    "color = 'tab:orange'\n",
    "ax2.set_ylabel('SvO₂ (%)', color=color)\n",
    "ax2.plot(tempo, sv02, marker='s', color=color)\n",
    "ax2.tick_params(axis='y', labelcolor=color)\n",
    "ax2.axhline(65, linestyle='--', color=color, alpha=0.4)\n",
    "\n",
    "plt.title('Tendência do DC e SvO₂ após otimização de fluidos e inotrópicos')\n",
    "fig.tight_layout()\n",
    "plt.show()"
   ]
  },
  {
   "cell_type": "markdown",
   "id": "f7b86833",
   "metadata": {},
   "source": [
    "### Dicas de interpretação\n",
    "- **SvO₂ < 60%** com DC baixo sugere hipoperfusão – intensificar suporte.\n",
    "- **POAP elevada + DC baixo** → choque cardiogênico; otimizar inotrópicos e diuréticos.\n",
    "- **POAP baixa + RVS alta** → choque hipovolêmico; priorizar reposição volêmica."
   ]
  },
  {
   "cell_type": "code",
   "execution_count": null,
   "id": "d94dd8e8",
   "metadata": {},
   "outputs": [],
   "source": [
    "def analise_caso_cap(poap, pam, pad, dc, svo2):\n",
    "    pam_calculada = (pam + 2 * pad) / 3\n",
    "    rvs = calcular_resistencia(pam_calculada, poap, dc)\n",
    "    alerta = []\n",
    "    if svo2 < 60:\n",
    "        alerta.append('SvO₂ crítica: otimizar entrega de O₂')\n",
    "    if poap > 18:\n",
    "        alerta.append('Congestão pulmonar: considerar diuréticos/ultrafiltração')\n",
    "    if rvs > 1200:\n",
    "        alerta.append('RVS alta: investigar vasoconstrição ou hipovolemia')\n",
    "    return pam_calculada, rvs, alerta\n",
    "\n",
    "resultado = analise_caso_cap(poap=22, pam=96, pad=60, dc=3.0, svo2=55)\n",
    "print(f\"PAM calculada: {resultado[0]:.1f} mmHg\")\n",
    "print(f\"RVS: {resultado[1]:.0f} dyn·s·cm⁻⁵\")\n",
    "print('Alertas:')\n",
    "for msg in resultado[2]:\n",
    "    print(f\"- {msg}\")"
   ]
  },
  {
   "cell_type": "markdown",
   "id": "22ad667b",
   "metadata": {},
   "source": [
    "## 🧪 Caso Integrado\n",
    "Paciente com choque séptico refratário em uso de noradrenalina 0,4 mcg/kg/min. Após posicionamento do CAP: PAM 68 mmHg, POAP 14 mmHg, DC 4,2 L/min, SvO₂ 70%.\n",
    "\n",
    "1. RVS calculada ≈ 1029 dyn·s·cm⁻⁵ → adequada.\n",
    "2. Otimizar titulação de vasopressor mantendo PAM ≥65 mmHg.\n",
    "3. Monitorar SvO₂ e lactato para ajustar metas.\n",
    "\n",
    "> Reforce o estudo com `notebooks/20_sdra.ipynb` e `casos-clinicos/caso_03_sdra_refrataria.md` para correlacionar com estratégias ventilatórias."
   ]
  },
  {
   "cell_type": "markdown",
   "id": "a464bd77",
   "metadata": {},
   "source": [
    "## ✅ Checklist de Competências\n",
    "- [ ] Reconhecer indicações clássicas de CAP\n",
    "- [ ] Identificar curvas normais e patológicas\n",
    "- [ ] Calcular RVS e interpretar SvO₂\n",
    "- [ ] Integrar achados do CAP ao manejo do choque"
   ]
  }
 ],
 "metadata": {
  "kernelspec": {
   "display_name": "Python 3",
   "language": "python",
   "name": "python3"
  },
  "language_info": {
   "name": "python",
   "version": "3.10"
  }
 },
 "nbformat": 4,
 "nbformat_minor": 5
}
