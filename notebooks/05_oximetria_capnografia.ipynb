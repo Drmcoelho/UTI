{
 "cells": [
  {
   "cell_type": "markdown",
   "id": "546344af",
   "metadata": {},
   "source": [
    "# 🌡️ Oximetria e Capnografia na UTI\n",
    "\n",
    "A monitorização contínua de oxigenação e ventilação é essencial para prevenir eventos sentinela. Este notebook reúne fundamentos, algoritmos práticos e miniaplicações para interpretar curvas e integrar dados ao manejo diário."
   ]
  },
  {
   "cell_type": "markdown",
   "id": "b0c584f7",
   "metadata": {},
   "source": [
    "## 🎯 Objetivos\n",
    "- Comparar tecnologias de oximetria (pulso, regional, venosa mista) e limitações.\n",
    "- Interpretar curvas de capnografia nas fases I-IV e reconhecer padrões críticos.\n",
    "- Utilizar correlações SpO₂/PaO₂ e gradiente alvéolo-arterial para tomada de decisão.\n",
    "- Integrar alarmes e tendências a protocolos de sedação, ventilação e analgesia."
   ]
  },
  {
   "cell_type": "markdown",
   "id": "7ac7da38",
   "metadata": {},
   "source": [
    "## 🧭 Algoritmo de Desaturação\n",
    "```mermaid\n",
    "graph TD\n",
    "    A[SpO₂ < 92%] --> B{Curva capnográfica presente?}\n",
    "    B -->|Não| C[Verificar deslocamento do sensor / parada de fluxo]\n",
    "    B -->|Sim| D{EtCO₂ > 45 mmHg?}\n",
    "    D -->|Sim| E[Hipoventilação → aumentar ventilação minuto]\n",
    "    D -->|Não| F{EtCO₂ < 30 mmHg?}\n",
    "    F -->|Sim| G[Hiperventilação ou baixo débito]\n",
    "    F -->|Não| H[Avaliar FiO₂, complacência e secreções]\n",
    "```"
   ]
  },
  {
   "cell_type": "markdown",
   "id": "21077f35",
   "metadata": {},
   "source": [
    "## 📈 Relação SpO₂ x PaO₂ (Estimativa)\n",
    "Utilize a tabela a seguir como aproximação rápida em pacientes com curva de dissociação normal. Ajustes são necessários em casos de choque, anemia severa ou disfunção mitocondrial."
   ]
  },
  {
   "cell_type": "code",
   "execution_count": null,
   "id": "cceba14c",
   "metadata": {},
   "outputs": [],
   "source": [
    "import numpy as np\n",
    "import pandas as pd\n",
    "\n",
    "spo2 = np.arange(75, 101, 1)\n",
    "paO2 = 100 * np.exp(-((100 - spo2) / 26))\n",
    "\n",
    "aproximacao = pd.DataFrame({\n",
    "    'SpO₂ (%)': spo2,\n",
    "    'PaO₂ estimada (mmHg)': paO2.round(1),\n",
    "    'Classificação': np.select([spo2 < 88, spo2 < 92, spo2 >= 92], ['Hipoxemia grave', 'Zona de alerta', 'Meta adequada'])\n",
    "})\n",
    "\n",
    "aproximacao.head(10)"
   ]
  },
  {
   "cell_type": "markdown",
   "id": "581d4cf7",
   "metadata": {},
   "source": [
    "### Aplicação prática\n",
    "- **Hipoxemia grave**: acionar protocolo de via aérea difícil e checar tubo/endoscopia.\n",
    "- **Zona de alerta**: reavaliar ventilação, otimizar PEEP ou recrutamento.\n",
    "- **Meta adequada**: manter titulação de FiO₂ < 60% sempre que possível."
   ]
  },
  {
   "cell_type": "code",
   "execution_count": null,
   "id": "2a197be0",
   "metadata": {},
   "outputs": [],
   "source": [
    "import plotly.graph_objects as go\n",
    "\n",
    "fig = go.Figure()\n",
    "fig.add_trace(go.Scatter(x=aproximacao['SpO₂ (%)'], y=aproximacao['PaO₂ estimada (mmHg)'], mode='lines', name='Curva estimada'))\n",
    "fig.add_vrect(x0=88, x1=92, fillcolor='#fff3cd', opacity=0.4, line_width=0)\n",
    "fig.add_vrect(x0=75, x1=88, fillcolor='#f8d7da', opacity=0.4, line_width=0)\n",
    "fig.add_vrect(x0=92, x1=100, fillcolor='#d1e7dd', opacity=0.3, line_width=0)\n",
    "fig.update_layout(title='Curva estimada SpO₂ vs PaO₂', xaxis_title='SpO₂ (%)', yaxis_title='PaO₂ (mmHg)', height=400)\n",
    "fig.show()"
   ]
  },
  {
   "cell_type": "markdown",
   "id": "4d799d74",
   "metadata": {},
   "source": [
    "## 🧮 Calculadora de Gradiente Alvéolo-Arterial\n",
    "O gradiente A-a ajuda a diferenciar causas de hipoxemia. Informe os valores atuais para obter interpretação automatizada."
   ]
  },
  {
   "cell_type": "code",
   "execution_count": null,
   "id": "86850928",
   "metadata": {},
   "outputs": [],
   "source": [
    "from ipywidgets import interact, FloatSlider\n",
    "\n",
    "R = 0.8\n",
    "\n",
    "def gradiente_aa(fio2: float = 0.5, pao2: float = 60.0, paco2: float = 40.0, barometrica: float = 760.0):\n",
    "    'Calcula gradiente A-a e sugere causas prováveis.'\n",
    "    alveolar = fio2 * (barometrica - 47) - paco2 / R\n",
    "    gradiente = alveolar - pao2\n",
    "\n",
    "    if gradiente < 10:\n",
    "        interpretacao = 'Gradiente normal: suspeite hipoventilação pura.'\n",
    "    elif gradiente < 25:\n",
    "        interpretacao = 'Leve aumento: investigar atelectasia ou início de shunt.'\n",
    "    elif gradiente < 50:\n",
    "        interpretacao = 'Moderado: provável shunt intrapulmonar ou V/Q.'\n",
    "    else:\n",
    "        interpretacao = 'Importante: considere SDRA, embolia ou shunt intracardíaco.'\n",
    "\n",
    "    return {\n",
    "        'Pressão alveolar de O₂ (mmHg)': round(alveolar, 1),\n",
    "        'Gradiente A-a (mmHg)': round(gradiente, 1),\n",
    "        'Interpretação': interpretacao,\n",
    "    }\n",
    "\n",
    "\n",
    "interact(\n",
    "    gradiente_aa,\n",
    "    fio2=FloatSlider(value=0.5, min=0.21, max=1.0, step=0.01, description='FiO₂'),\n",
    "    pao2=FloatSlider(value=60, min=30, max=200, step=1, description='PaO₂'),\n",
    "    paco2=FloatSlider(value=40, min=20, max=80, step=1, description='PaCO₂'),\n",
    "    barometrica=FloatSlider(value=760, min=500, max=780, step=1, description='PB (mmHg)'),\n",
    ")"
   ]
  },
  {
   "cell_type": "markdown",
   "id": "e50d1e22",
   "metadata": {},
   "source": [
    "## 📉 Tipos de Curvas Capnográficas\n",
    "- **Obstrução expiratória**: fase III com inclinação aumentada (asma, DPOC).\n",
    "- **Reinalação**: ausência de retorno à linha de base (CO₂ > 0 na fase I).\n",
    "- **Hiperventilação**: EtCO₂ < 30 mmHg e redução global da curva.\n",
    "- **Apneia/parada de fluxo**: linha reta próxima de zero.\n",
    "\n",
    "Acompanhe mudanças após ajustes de sedação, broncodilatador ou recrutamento alveolar."
   ]
  },
  {
   "cell_type": "code",
   "execution_count": null,
   "id": "876a94c4",
   "metadata": {},
   "outputs": [],
   "source": [
    "import numpy as np\n",
    "import plotly.graph_objects as go\n",
    "\n",
    "t = np.linspace(0, 6, 500)\n",
    "co2_normal = 40 + 5 * np.sin(0.5 * np.pi * t)\n",
    "co2_obstrucao = 42 + 10 * np.sin(0.5 * np.pi * t) ** 1.5\n",
    "co2_apneia = np.zeros_like(t)\n",
    "\n",
    "fig = go.Figure()\n",
    "fig.add_trace(go.Scatter(x=t, y=np.clip(co2_normal, 0, 50), name='Normal', mode='lines'))\n",
    "fig.add_trace(go.Scatter(x=t, y=np.clip(co2_obstrucao, 0, 55), name='Obstrução', mode='lines'))\n",
    "fig.add_trace(go.Scatter(x=t, y=co2_apneia, name='Apneia', mode='lines'))\n",
    "fig.update_layout(title='Padrões simulados de capnografia', xaxis_title='Tempo (s)', yaxis_title='EtCO₂ (mmHg)', height=400)\n",
    "fig.show()"
   ]
  },
  {
   "cell_type": "markdown",
   "id": "d426cf5b",
   "metadata": {},
   "source": [
    "## 🧠 Caso Clínico Integrado\n",
    "**Situação:** Paciente com SDRA em ventilação controlada, FiO₂ 0,6, PEEP 12 cmH₂O. SpO₂ cai para 86% enquanto EtCO₂ permanece 32 mmHg com curva normal.\n",
    "\n",
    "1. Verifique posicionamento do tubo e presença de secreções grossas.\n",
    "2. Execute recrutamento alveolar e ajuste PEEP se complacência permitir.\n",
    "3. Reavalie após 5 minutos com nova gasometria e curva P/V do respirador.\n",
    "\n",
    "**Discussão:** Queda isolada de SpO₂ com EtCO₂ estável sugere piora na relação V/Q ou shunt, não hipoventilação. Foque em intervenções pulmonares e hemodinâmicas."
   ]
  },
  {
   "cell_type": "markdown",
   "id": "8abd0427",
   "metadata": {},
   "source": [
    "## 📚 Referências\n",
    "- Capnography. *Clinical application of capnography in mechanically ventilated patients*. Crit Care, 2020.\n",
    "- O'Driscoll, B. et al. *British Thoracic Society Guideline for oxygen use in adults in healthcare*. BMJ Open Resp Res, 2017.\n",
    "- Surviving Sepsis Campaign 2021 – recomendações de monitorização.\n",
    "- Miller's Anesthesia, capítulo sobre monitorização respiratória."
   ]
  }
 ],
 "metadata": {},
 "nbformat": 4,
 "nbformat_minor": 5
}