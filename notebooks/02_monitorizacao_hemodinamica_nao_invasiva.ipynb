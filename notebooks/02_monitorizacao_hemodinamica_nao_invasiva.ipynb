{
 "cells": [
  {
   "cell_type": "markdown",
   "id": "d40119a1",
   "metadata": {},
   "source": [
    "# Notebook 02 - Monitorização Hemodinâmica Não Invasiva\n",
    "\n",
    "Integre métodos clínicos e tecnologia de beira-leito para seguir a perfusão sistêmica sem acessos invasivos."
   ]
  },
  {
   "cell_type": "markdown",
   "id": "68c42964",
   "metadata": {},
   "source": [
    "## 🎯 Objetivos de Aprendizagem\n",
    "- Diferenciar dispositivos não invasivos e suas aplicações\n",
    "- Interpretar tendências pressóricas e parâmetros de perfusão\n",
    "- Definir quando escalar para monitorização invasiva\n",
    "- Conduzir caso clínico com decisões baseadas em dados não invasivos"
   ]
  },
  {
   "cell_type": "markdown",
   "id": "5898ae20",
   "metadata": {},
   "source": [
    "## 🧭 Mapa do Notebook\n",
    "- Panorama da monitorização não invasiva\n",
    "- Seleção de dispositivos por perfil de paciente\n",
    "- Cálculos essenciais para interpretação rápida\n",
    "- Casos clínicos orientados por dados\n",
    "- Checklist final para prática segura"
   ]
  },
  {
   "cell_type": "markdown",
   "id": "8c143cd0",
   "metadata": {},
   "source": [
    "## 🧠 Fundamentos\n",
    "A monitorização hemodinâmica **não invasiva** combina métodos clínicos e tecnologias baseadas em manguitos oscilométricos, sensores ópticos e algoritmos de análise de onda de pulso. A meta é acompanhar a perfusão tecidual sem expor o paciente a riscos desnecessários.\n",
    "\n",
    "> Use a tríade **sinais vitais + perfusão periférica + tendências** para avaliar estabilidade."
   ]
  },
  {
   "cell_type": "markdown",
   "id": "8c566b22",
   "metadata": {},
   "source": [
    "### Principais Modalidades\n",
    "| Recurso | Parâmetro monitorado | Indicação principal | Limitações |\n",
    "| --- | --- | --- | --- |\n",
    "| Pressão arterial oscilométrica | PAS/PAD/PAM | Monitorização contínua em UTI estável | Interferência por arritmias |\n",
    "| Oximetria de pulso | Saturação periférica | Triagem e titulação de O₂ | Baixa perfusão e vasoconstrição |\n",
    "| Capnografia ETCO₂ | Ventilação e perfusão | Monitorização de VM e sedação | Vazamento, intubações difíceis |\n",
    "| Ultrassom Doppler portátil | DC não invasivo | Avaliar resposta volêmica rápida | Dependência do operador |"
   ]
  },
  {
   "cell_type": "markdown",
   "id": "af0962b5",
   "metadata": {},
   "source": [
    "### Fluxo de Decisão\n",
    "```mermaid\n",
    "flowchart TD\n",
    "    A[Avaliar estabilidade do paciente] --> B{Choque?}\n",
    "    B -- Não --> C[Monitorização oscilométrica padrão]\n",
    "    B -- Sim --> D{Perfusão periférica adequada?}\n",
    "    D -- Sim --> E[Adicionar ETCO₂ + lactato seriado]\n",
    "    D -- Não --> F[Usar Doppler portátil e análise de variabilidade de pulso]\n",
    "    F --> G[Considerar escalonamento para monitorização invasiva]\n",
    "```"
   ]
  },
  {
   "cell_type": "markdown",
   "id": "3a609962",
   "metadata": {},
   "source": [
    "## 📊 Tendências de Pressão Arterial\n",
    "Monitorar a tendência das pressões e correlacionar com intervenções (fluidoterapia, vasopressores) é crucial. Use janelas de 4 a 6 horas para detectar padrões."
   ]
  },
  {
   "cell_type": "code",
   "execution_count": null,
   "id": "91704c3e",
   "metadata": {},
   "outputs": [],
   "source": [
    "import numpy as np\n",
    "import matplotlib.pyplot as plt\n",
    "\n",
    "time_hours = np.arange(0, 7)\n",
    "pas = np.array([118, 112, 110, 104, 108, 116, 120])\n",
    "pad = np.array([72, 68, 65, 60, 62, 66, 70])\n",
    "pam = (pas + 2 * pad) / 3\n",
    "\n",
    "plt.figure(figsize=(10, 4))\n",
    "plt.plot(time_hours, pas, marker='o', label=\"PAS\")\n",
    "plt.plot(time_hours, pad, marker='o', label=\"PAD\")\n",
    "plt.plot(time_hours, pam, marker='o', label=\"PAM calculada\")\n",
    "plt.axhline(65, color='red', linestyle='--', label='Meta PAM 65 mmHg')\n",
    "plt.title('Tendência pressórica durante titulação de vasopressor')\n",
    "plt.xlabel('Tempo (h)')\n",
    "plt.ylabel('Pressão (mmHg)')\n",
    "plt.legend()\n",
    "plt.grid(True)\n",
    "plt.show()"
   ]
  },
  {
   "cell_type": "markdown",
   "id": "8e8494ab",
   "metadata": {},
   "source": [
    "### Interpretação rápida\n",
    "- **PAM < 65 mmHg** por mais de 15 min exige ajuste terapêutico.\n",
    "- Oscilações amplas entre leituras sugerem baixa confiabilidade do manguito.\n",
    "- Compare com parâmetros clínicos: diurese, lactato, estado mental."
   ]
  },
  {
   "cell_type": "code",
   "execution_count": null,
   "id": "548c63b1",
   "metadata": {},
   "outputs": [],
   "source": [
    "def classificar_perfusao(pam, lactato, perfusao_periferica):\n",
    "    \"\"\"Classifica o status hemodinâmico usando dados não invasivos.\"\"\"\n",
    "    if pam >= 65 and lactato < 2 and perfusao_periferica == 2:\n",
    "        return 'Estável, manter estratégia atual e reavaliar em 60 min'\n",
    "    if pam < 65 and lactato >= 2:\n",
    "        return 'Provável choque. Otimizar volume, avaliar vasopressor e considerar acesso invasivo.'\n",
    "    if pam < 65 and perfusao_periferica <= 1:\n",
    "        return 'Hipoperfusão. Intensificar monitorização, investigar causa.'\n",
    "    return 'Reavaliação clínica necessária; correlacionar com outros marcadores.'\n",
    "\n",
    "cenarios = [\n",
    "    {'pam': 72, 'lactato': 1.6, 'perfusao_periferica': 2},\n",
    "    {'pam': 58, 'lactato': 3.1, 'perfusao_periferica': 0},\n",
    "    {'pam': 64, 'lactato': 1.8, 'perfusao_periferica': 1}\n",
    "]\n",
    "\n",
    "for idx, caso in enumerate(cenarios, start=1):\n",
    "    decisao = classificar_perfusao(**caso)\n",
    "    print(f\"Cenário {idx}: {decisao}\")"
   ]
  },
  {
   "cell_type": "markdown",
   "id": "0a4c86cc",
   "metadata": {},
   "source": [
    "## 🧪 Caso Prático Guiado\n",
    "Paciente com choque distributivo em recuperação, em uso de noradrenalina 0,06 mcg/kg/min. Após redução de 10%, PAM cai para 60 mmHg, lactato mantém 1,9 mmol/L, perfusão periférica classificada como 1.\n",
    "\n",
    "1. Reavalie o volume intravascular com exame físico + ultrassom focado.\n",
    "2. Se volume adequado, retorne à dose prévia de vasopressor.\n",
    "3. Documente a resposta e planeje nova tentativa em 2 horas.\n",
    "\n",
    "> Consulte `casos-clinicos/caso_02_monitorizacao_invasiva.md` para discutir transição segura para monitorização invasiva."
   ]
  },
  {
   "cell_type": "markdown",
   "id": "7701c829",
   "metadata": {},
   "source": [
    "## ✅ Checklist de Competências\n",
    "- [ ] Explicar vantagens e limitações dos métodos não invasivos\n",
    "- [ ] Correlacionar PAM calculada com metas de perfusão\n",
    "- [ ] Integrar dados de lactato e perfusão periférica\n",
    "- [ ] Acionar critérios para monitorização invasiva quando indicado"
   ]
  }
 ],
 "metadata": {
  "kernelspec": {
   "display_name": "Python 3",
   "language": "python",
   "name": "python3"
  },
  "language_info": {
   "name": "python",
   "version": "3.10"
  }
 },
 "nbformat": 4,
 "nbformat_minor": 5
}
